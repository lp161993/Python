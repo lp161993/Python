{
 "cells": [
  {
   "cell_type": "code",
   "execution_count": 3,
   "id": "37a32683",
   "metadata": {},
   "outputs": [],
   "source": [
    "import pandas as pd\n",
    "import numpy as np\n",
    "import seaborn as sns\n",
    "import matplotlib.pyplot as plt"
   ]
  },
  {
   "cell_type": "code",
   "execution_count": 17,
   "id": "aed6eabe",
   "metadata": {},
   "outputs": [],
   "source": [
    "control_group = pd.read_csv(\"control_group.csv\", delimiter=\";\")\n",
    "test_group = pd.read_csv(\"test_group.csv\", delimiter=\";\")"
   ]
  },
  {
   "cell_type": "code",
   "execution_count": 27,
   "id": "51430460",
   "metadata": {},
   "outputs": [
    {
     "data": {
      "text/html": [
       "<div>\n",
       "<style scoped>\n",
       "    .dataframe tbody tr th:only-of-type {\n",
       "        vertical-align: middle;\n",
       "    }\n",
       "\n",
       "    .dataframe tbody tr th {\n",
       "        vertical-align: top;\n",
       "    }\n",
       "\n",
       "    .dataframe thead th {\n",
       "        text-align: right;\n",
       "    }\n",
       "</style>\n",
       "<table border=\"1\" class=\"dataframe\">\n",
       "  <thead>\n",
       "    <tr style=\"text-align: right;\">\n",
       "      <th></th>\n",
       "      <th>Campaign Name</th>\n",
       "      <th>Date</th>\n",
       "      <th>Spend-USD</th>\n",
       "      <th># of Impressions</th>\n",
       "      <th>Reach</th>\n",
       "      <th># of Website Clicks</th>\n",
       "      <th># of Searches</th>\n",
       "      <th># of View Content</th>\n",
       "      <th># of Add to Cart</th>\n",
       "      <th># of Purchase</th>\n",
       "    </tr>\n",
       "  </thead>\n",
       "  <tbody>\n",
       "    <tr>\n",
       "      <th>0</th>\n",
       "      <td>Control Campaign</td>\n",
       "      <td>2019-08-01</td>\n",
       "      <td>2280</td>\n",
       "      <td>82702.0</td>\n",
       "      <td>56930.0</td>\n",
       "      <td>7016.0</td>\n",
       "      <td>2290.0</td>\n",
       "      <td>2159.0</td>\n",
       "      <td>1819.0</td>\n",
       "      <td>618.0</td>\n",
       "    </tr>\n",
       "    <tr>\n",
       "      <th>1</th>\n",
       "      <td>Control Campaign</td>\n",
       "      <td>2019-08-02</td>\n",
       "      <td>1757</td>\n",
       "      <td>121040.0</td>\n",
       "      <td>102513.0</td>\n",
       "      <td>8110.0</td>\n",
       "      <td>2033.0</td>\n",
       "      <td>1841.0</td>\n",
       "      <td>1219.0</td>\n",
       "      <td>511.0</td>\n",
       "    </tr>\n",
       "    <tr>\n",
       "      <th>2</th>\n",
       "      <td>Control Campaign</td>\n",
       "      <td>2019-08-03</td>\n",
       "      <td>2343</td>\n",
       "      <td>131711.0</td>\n",
       "      <td>110862.0</td>\n",
       "      <td>6508.0</td>\n",
       "      <td>1737.0</td>\n",
       "      <td>1549.0</td>\n",
       "      <td>1134.0</td>\n",
       "      <td>372.0</td>\n",
       "    </tr>\n",
       "  </tbody>\n",
       "</table>\n",
       "</div>"
      ],
      "text/plain": [
       "      Campaign Name       Date  Spend-USD  # of Impressions     Reach  \\\n",
       "0  Control Campaign 2019-08-01       2280           82702.0   56930.0   \n",
       "1  Control Campaign 2019-08-02       1757          121040.0  102513.0   \n",
       "2  Control Campaign 2019-08-03       2343          131711.0  110862.0   \n",
       "\n",
       "   # of Website Clicks  # of Searches  # of View Content  # of Add to Cart  \\\n",
       "0               7016.0         2290.0             2159.0            1819.0   \n",
       "1               8110.0         2033.0             1841.0            1219.0   \n",
       "2               6508.0         1737.0             1549.0            1134.0   \n",
       "\n",
       "   # of Purchase  \n",
       "0          618.0  \n",
       "1          511.0  \n",
       "2          372.0  "
      ]
     },
     "execution_count": 27,
     "metadata": {},
     "output_type": "execute_result"
    }
   ],
   "source": [
    "control_group.head(3)\n"
   ]
  },
  {
   "cell_type": "code",
   "execution_count": 28,
   "id": "033cfcdb",
   "metadata": {},
   "outputs": [
    {
     "data": {
      "text/html": [
       "<div>\n",
       "<style scoped>\n",
       "    .dataframe tbody tr th:only-of-type {\n",
       "        vertical-align: middle;\n",
       "    }\n",
       "\n",
       "    .dataframe tbody tr th {\n",
       "        vertical-align: top;\n",
       "    }\n",
       "\n",
       "    .dataframe thead th {\n",
       "        text-align: right;\n",
       "    }\n",
       "</style>\n",
       "<table border=\"1\" class=\"dataframe\">\n",
       "  <thead>\n",
       "    <tr style=\"text-align: right;\">\n",
       "      <th></th>\n",
       "      <th>Campaign Name</th>\n",
       "      <th>Date</th>\n",
       "      <th>Spend-USD</th>\n",
       "      <th># of Impressions</th>\n",
       "      <th>Reach</th>\n",
       "      <th># of Website Clicks</th>\n",
       "      <th># of Searches</th>\n",
       "      <th># of View Content</th>\n",
       "      <th># of Add to Cart</th>\n",
       "      <th># of Purchase</th>\n",
       "    </tr>\n",
       "  </thead>\n",
       "  <tbody>\n",
       "    <tr>\n",
       "      <th>0</th>\n",
       "      <td>Test Campaign</td>\n",
       "      <td>2019-08-01</td>\n",
       "      <td>3008</td>\n",
       "      <td>39550</td>\n",
       "      <td>35820</td>\n",
       "      <td>3038</td>\n",
       "      <td>1946</td>\n",
       "      <td>1069</td>\n",
       "      <td>894</td>\n",
       "      <td>255</td>\n",
       "    </tr>\n",
       "    <tr>\n",
       "      <th>1</th>\n",
       "      <td>Test Campaign</td>\n",
       "      <td>2019-08-02</td>\n",
       "      <td>2542</td>\n",
       "      <td>100719</td>\n",
       "      <td>91236</td>\n",
       "      <td>4657</td>\n",
       "      <td>2359</td>\n",
       "      <td>1548</td>\n",
       "      <td>879</td>\n",
       "      <td>677</td>\n",
       "    </tr>\n",
       "    <tr>\n",
       "      <th>2</th>\n",
       "      <td>Test Campaign</td>\n",
       "      <td>2019-08-03</td>\n",
       "      <td>2365</td>\n",
       "      <td>70263</td>\n",
       "      <td>45198</td>\n",
       "      <td>7885</td>\n",
       "      <td>2572</td>\n",
       "      <td>2367</td>\n",
       "      <td>1268</td>\n",
       "      <td>578</td>\n",
       "    </tr>\n",
       "  </tbody>\n",
       "</table>\n",
       "</div>"
      ],
      "text/plain": [
       "   Campaign Name       Date  Spend-USD  # of Impressions  Reach  \\\n",
       "0  Test Campaign 2019-08-01       3008             39550  35820   \n",
       "1  Test Campaign 2019-08-02       2542            100719  91236   \n",
       "2  Test Campaign 2019-08-03       2365             70263  45198   \n",
       "\n",
       "   # of Website Clicks  # of Searches  # of View Content  # of Add to Cart  \\\n",
       "0                 3038           1946               1069               894   \n",
       "1                 4657           2359               1548               879   \n",
       "2                 7885           2572               2367              1268   \n",
       "\n",
       "   # of Purchase  \n",
       "0            255  \n",
       "1            677  \n",
       "2            578  "
      ]
     },
     "execution_count": 28,
     "metadata": {},
     "output_type": "execute_result"
    }
   ],
   "source": [
    "test_group.head(3)"
   ]
  },
  {
   "cell_type": "code",
   "execution_count": 11,
   "id": "f468257a",
   "metadata": {},
   "outputs": [],
   "source": [
    "def explore_dataset(input_df):\n",
    "    dup = input_df[input_df.duplicated() == True].shape[0] > 0 #Computing if any rows are duplicated\n",
    "    missing = input_df.isnull().sum() #Missing values in each\n",
    "    fields = input_df.columns #fields in the dataset\n",
    "    print(\"Duplication: {}\\n\\nMissing data per field: \\n{}\".format(dup, missing))\n",
    "    print(\"\\nStatistics: \\n{}\".format(input_df[fields].describe())) # Information about columns\n",
    "    input_df.info()"
   ]
  },
  {
   "cell_type": "code",
   "execution_count": 22,
   "id": "d71b6a83",
   "metadata": {
    "collapsed": true
   },
   "outputs": [
    {
     "name": "stdout",
     "output_type": "stream",
     "text": [
      "Duplication: False\n",
      "\n",
      "Missing data per field: \n",
      "Campaign Name          0\n",
      "Date                   0\n",
      "Spend [USD]            0\n",
      "# of Impressions       0\n",
      "Reach                  0\n",
      "# of Website Clicks    0\n",
      "# of Searches          0\n",
      "# of View Content      0\n",
      "# of Add to Cart       0\n",
      "# of Purchase          0\n",
      "dtype: int64\n",
      "\n",
      "Statistics: \n",
      "                                Date  Spend [USD]  # of Impressions  \\\n",
      "count                             29    29.000000         29.000000   \n",
      "mean   2019-08-15 20:41:22.758620672  2304.068966     109559.758621   \n",
      "min              2019-08-01 00:00:00  1757.000000      71274.000000   \n",
      "25%              2019-08-09 00:00:00  1962.000000      92029.000000   \n",
      "50%              2019-08-16 00:00:00  2319.000000     113430.000000   \n",
      "75%              2019-08-23 00:00:00  2544.000000     121332.000000   \n",
      "max              2019-08-30 00:00:00  3083.000000     145248.000000   \n",
      "std                              NaN   363.534822      21688.922908   \n",
      "\n",
      "               Reach  # of Website Clicks  # of Searches  # of View Content  \\\n",
      "count      29.000000            29.000000      29.000000          29.000000   \n",
      "mean    88844.931034          5320.793103    2221.310345        1943.793103   \n",
      "min     42859.000000          2277.000000    1001.000000         848.000000   \n",
      "25%     74192.000000          4085.000000    1615.000000        1249.000000   \n",
      "50%     91579.000000          5224.000000    2390.000000        1984.000000   \n",
      "75%    102479.000000          6628.000000    2711.000000        2421.000000   \n",
      "max    127852.000000          8137.000000    4891.000000        4219.000000   \n",
      "std     21832.349595          1757.369003     866.089368         777.545469   \n",
      "\n",
      "       # of Add to Cart  # of Purchase  \n",
      "count         29.000000      29.000000  \n",
      "mean        1300.000000     522.793103  \n",
      "min          442.000000     222.000000  \n",
      "25%          930.000000     372.000000  \n",
      "50%         1339.000000     501.000000  \n",
      "75%         1641.000000     670.000000  \n",
      "max         1913.000000     800.000000  \n",
      "std          407.457973     185.028642  \n",
      "<class 'pandas.core.frame.DataFrame'>\n",
      "Index: 29 entries, 0 to 29\n",
      "Data columns (total 10 columns):\n",
      " #   Column               Non-Null Count  Dtype         \n",
      "---  ------               --------------  -----         \n",
      " 0   Campaign Name        29 non-null     object        \n",
      " 1   Date                 29 non-null     datetime64[ns]\n",
      " 2   Spend [USD]          29 non-null     int64         \n",
      " 3   # of Impressions     29 non-null     float64       \n",
      " 4   Reach                29 non-null     float64       \n",
      " 5   # of Website Clicks  29 non-null     float64       \n",
      " 6   # of Searches        29 non-null     float64       \n",
      " 7   # of View Content    29 non-null     float64       \n",
      " 8   # of Add to Cart     29 non-null     float64       \n",
      " 9   # of Purchase        29 non-null     float64       \n",
      "dtypes: datetime64[ns](1), float64(7), int64(1), object(1)\n",
      "memory usage: 2.5+ KB\n",
      "Duplication: False\n",
      "\n",
      "Missing data per field: \n",
      "Campaign Name          0\n",
      "Date                   0\n",
      "Spend [USD]            0\n",
      "# of Impressions       0\n",
      "Reach                  0\n",
      "# of Website Clicks    0\n",
      "# of Searches          0\n",
      "# of View Content      0\n",
      "# of Add to Cart       0\n",
      "# of Purchase          0\n",
      "dtype: int64\n",
      "\n",
      "Statistics: \n",
      "                      Date  Spend [USD]  # of Impressions          Reach  \\\n",
      "count                   30    30.000000         30.000000      30.000000   \n",
      "mean   2019-08-15 12:00:00  2563.066667      74584.800000   53491.566667   \n",
      "min    2019-08-01 00:00:00  1968.000000      22521.000000   10598.000000   \n",
      "25%    2019-08-08 06:00:00  2324.500000      47541.250000   31516.250000   \n",
      "50%    2019-08-15 12:00:00  2584.000000      68853.500000   44219.500000   \n",
      "75%    2019-08-22 18:00:00  2836.250000      99500.000000   78778.750000   \n",
      "max    2019-08-30 00:00:00  3112.000000     133771.000000  109834.000000   \n",
      "std                    NaN   348.687681      32121.377422   28795.775752   \n",
      "\n",
      "       # of Website Clicks  # of Searches  # of View Content  \\\n",
      "count            30.000000      30.000000          30.000000   \n",
      "mean           6032.333333    2418.966667        1858.000000   \n",
      "min            3038.000000    1854.000000         858.000000   \n",
      "25%            4407.000000    2043.000000        1320.000000   \n",
      "50%            6242.500000    2395.500000        1881.000000   \n",
      "75%            7604.750000    2801.250000        2412.000000   \n",
      "max            8264.000000    2978.000000        2801.000000   \n",
      "std            1708.567263     388.742312         597.654669   \n",
      "\n",
      "       # of Add to Cart  # of Purchase  \n",
      "count         30.000000      30.000000  \n",
      "mean         881.533333     521.233333  \n",
      "min          278.000000     238.000000  \n",
      "25%          582.500000     298.000000  \n",
      "50%          974.000000     500.000000  \n",
      "75%         1148.500000     701.000000  \n",
      "max         1391.000000     890.000000  \n",
      "std          347.584248     211.047745  \n",
      "<class 'pandas.core.frame.DataFrame'>\n",
      "RangeIndex: 30 entries, 0 to 29\n",
      "Data columns (total 10 columns):\n",
      " #   Column               Non-Null Count  Dtype         \n",
      "---  ------               --------------  -----         \n",
      " 0   Campaign Name        30 non-null     object        \n",
      " 1   Date                 30 non-null     datetime64[ns]\n",
      " 2   Spend [USD]          30 non-null     int64         \n",
      " 3   # of Impressions     30 non-null     int64         \n",
      " 4   Reach                30 non-null     int64         \n",
      " 5   # of Website Clicks  30 non-null     int64         \n",
      " 6   # of Searches        30 non-null     int64         \n",
      " 7   # of View Content    30 non-null     int64         \n",
      " 8   # of Add to Cart     30 non-null     int64         \n",
      " 9   # of Purchase        30 non-null     int64         \n",
      "dtypes: datetime64[ns](1), int64(8), object(1)\n",
      "memory usage: 2.5+ KB\n"
     ]
    }
   ],
   "source": [
    "explore_dataset(control_group)\n",
    "explore_dataset(test_group)"
   ]
  },
  {
   "cell_type": "code",
   "execution_count": 37,
   "id": "c7bec3e8",
   "metadata": {},
   "outputs": [],
   "source": [
    "control_group = control_group.dropna()"
   ]
  },
  {
   "cell_type": "code",
   "execution_count": 20,
   "id": "c86715f3",
   "metadata": {},
   "outputs": [],
   "source": [
    "#Change type of date from object to datetime\n",
    "control_group['Date'] = pd.to_datetime(control_group['Date'], format=\"%d.%m.%Y\")"
   ]
  },
  {
   "cell_type": "code",
   "execution_count": 21,
   "id": "99ce0968",
   "metadata": {},
   "outputs": [],
   "source": [
    "test_group['Date'] = pd.to_datetime(test_group['Date'], format=\"%d.%m.%Y\")"
   ]
  },
  {
   "cell_type": "code",
   "execution_count": 18,
   "id": "57e9eeaf",
   "metadata": {
    "scrolled": false
   },
   "outputs": [],
   "source": [
    "control_group = control_group.rename(columns = {\"Spend [USD]\" : \"Spend-USD\"})\n",
    "test_group = test_group.rename(columns = {\"Spend [USD]\" : \"Spend-USD\"})"
   ]
  },
  {
   "cell_type": "code",
   "execution_count": 30,
   "id": "61871ac8",
   "metadata": {},
   "outputs": [
    {
     "name": "stdout",
     "output_type": "stream",
     "text": [
      "47.55055523960609\n",
      "29.099828330645582\n"
     ]
    }
   ],
   "source": [
    "#For every dollar spent, what are my returns for Control vs Test group\n",
    "print(control_group[\"# of Impressions\"].sum()/control_group[\"Spend-USD\"].sum())\n",
    "print(test_group[\"# of Impressions\"].sum()/test_group[\"Spend-USD\"].sum())"
   ]
  },
  {
   "cell_type": "code",
   "execution_count": 8,
   "id": "6b79520a",
   "metadata": {},
   "outputs": [],
   "source": [
    "def barchart(x_axis, y_axis, x_label=\"X-AXIS\", y_label=\"Y-AXIS\", title = \"Bar Chart\"):\n",
    "    plt.bar(x_axis, y_axis)\n",
    "    plt.title(title)\n",
    "    plt.xlabel(x_label)\n",
    "    plt.ylabel(y_label)\n",
    "    plt.show()\n",
    "    #ax1.set_xlabel(x_label)\n",
    "    #ax1.set_ylabel(y_label)\n",
    "    #ax1.set_title(title, size=15)"
   ]
  },
  {
   "cell_type": "code",
   "execution_count": 9,
   "id": "89a979bd",
   "metadata": {
    "scrolled": false
   },
   "outputs": [
    {
     "name": "stdout",
     "output_type": "stream",
     "text": [
      "Following calculations show, for every dollar spent, what was the return from Control group Vs Test group for every field\n",
      "\n",
      "Field: # of Impressions\n"
     ]
    },
    {
     "data": {
      "image/png": "[encoded data removed]",
      "text/plain": [
       "<Figure size 432x288 with 1 Axes>"
      ]
     },
     "metadata": {
      "needs_background": "light"
     },
     "output_type": "display_data"
    },
    {
     "name": "stdout",
     "output_type": "stream",
     "text": [
      "Field: Reach\n"
     ]
    },
    {
     "data": {
      "image/png": "[encoded data removed]",
      "text/plain": [
       "<Figure size 432x288 with 1 Axes>"
      ]
     },
     "metadata": {
      "needs_background": "light"
     },
     "output_type": "display_data"
    },
    {
     "name": "stdout",
     "output_type": "stream",
     "text": [
      "Field: # of Website Clicks\n"
     ]
    },
    {
     "data": {
      "image/png": "[encoded data removed]",
      "text/plain": [
       "<Figure size 432x288 with 1 Axes>"
      ]
     },
     "metadata": {
      "needs_background": "light"
     },
     "output_type": "display_data"
    },
    {
     "name": "stdout",
     "output_type": "stream",
     "text": [
      "Field: # of Searches\n"
     ]
    },
    {
     "data": {
      "image/png": "[encoded data removed]",
      "text/plain": [
       "<Figure size 432x288 with 1 Axes>"
      ]
     },
     "metadata": {
      "needs_background": "light"
     },
     "output_type": "display_data"
    },
    {
     "name": "stdout",
     "output_type": "stream",
     "text": [
      "Field: # of View Content\n"
     ]
    },
    {
     "data": {
      "image/png": "[encoded data removed]",
      "text/plain": [
       "<Figure size 432x288 with 1 Axes>"
      ]
     },
     "metadata": {
      "needs_background": "light"
     },
     "output_type": "display_data"
    },
    {
     "name": "stdout",
     "output_type": "stream",
     "text": [
      "Field: # of Add to Cart\n"
     ]
    },
    {
     "data": {
      "image/png": "[encoded data removed]",
      "text/plain": [
       "<Figure size 432x288 with 1 Axes>"
      ]
     },
     "metadata": {
      "needs_background": "light"
     },
     "output_type": "display_data"
    },
    {
     "name": "stdout",
     "output_type": "stream",
     "text": [
      "Field: # of Purchase\n"
     ]
    },
    {
     "data": {
      "image/png": "[encoded data removed]",
      "text/plain": [
       "<Figure size 432x288 with 1 Axes>"
      ]
     },
     "metadata": {
      "needs_background": "light"
     },
     "output_type": "display_data"
    }
   ],
   "source": [
    "columns_to_monitor = ['# of Impressions', 'Reach','# of Website Clicks', '# of Searches', '# of View Content',\n",
    "       '# of Add to Cart', '# of Purchase']\n",
    "print(\"Following calculations show, for every dollar spent, what was the return from Control group Vs Test group for every field\\n\")\n",
    "for col in columns_to_monitor:\n",
    "    print(\"Field: %s\" %col)\n",
    "    x_axis = [\"control_group\", \"test_group\"]\n",
    "    y_axis =[(control_group[col].sum())/control_group[\"Spend-USD\"].sum() , (test_group[col].sum())/test_group[\"Spend-USD\"].sum()]\n",
    "    x_label = \"Group Type\"\n",
    "    y_label = \"Average \" +col+ \" for every dollar spend\"\n",
    "    title = col\n",
    "    barchart(x_axis, y_axis, x_label, y_label, title)"
   ]
  },
  {
   "cell_type": "code",
   "execution_count": 38,
   "id": "d7a7cef8",
   "metadata": {},
   "outputs": [],
   "source": [
    "control_group[\"conversion_rate\"] = control_group[\"# of Purchase\"]/control_group[\"# of Website Clicks\"]\n",
    "test_group[\"conversion_rate\"] = test_group[\"# of Purchase\"]/test_group[\"# of Website Clicks\"]\n",
    "\n",
    "control_group[\"Investment_per_purchase\"] = control_group[\"Spend-USD\"]/control_group[\"# of Purchase\"]\n",
    "test_group[\"Investment_per_purchase\"] = test_group[\"Spend-USD\"]/test_group[\"# of Purchase\"]\n",
    "\n",
    "control_group[\"Reach_per_purchase\"] = control_group[\"Reach\"]/control_group[\"# of Purchase\"]\n",
    "test_group[\"Reach_per_purchase\"] = test_group[\"Reach\"]/test_group[\"# of Purchase\"]"
   ]
  },
  {
   "cell_type": "markdown",
   "id": "cfcfdc70",
   "metadata": {},
   "source": [
    "We have calculated 3 metrics conversion_rate, Investment_per_purchase, Reach_per_purchase"
   ]
  },
  {
   "cell_type": "code",
   "execution_count": 20,
   "id": "d283c9d2",
   "metadata": {},
   "outputs": [
    {
     "data": {
      "text/html": [
       "<div>\n",
       "<style scoped>\n",
       "    .dataframe tbody tr th:only-of-type {\n",
       "        vertical-align: middle;\n",
       "    }\n",
       "\n",
       "    .dataframe tbody tr th {\n",
       "        vertical-align: top;\n",
       "    }\n",
       "\n",
       "    .dataframe thead th {\n",
       "        text-align: right;\n",
       "    }\n",
       "</style>\n",
       "<table border=\"1\" class=\"dataframe\">\n",
       "  <thead>\n",
       "    <tr style=\"text-align: right;\">\n",
       "      <th></th>\n",
       "      <th>Campaign Name</th>\n",
       "      <th>Date</th>\n",
       "      <th>Spend-USD</th>\n",
       "      <th># of Impressions</th>\n",
       "      <th>Reach</th>\n",
       "      <th># of Website Clicks</th>\n",
       "      <th># of Searches</th>\n",
       "      <th># of View Content</th>\n",
       "      <th># of Add to Cart</th>\n",
       "      <th># of Purchase</th>\n",
       "      <th>conversion_rate</th>\n",
       "      <th>Investment_per_purchase</th>\n",
       "      <th>Reach_per_purchase</th>\n",
       "    </tr>\n",
       "  </thead>\n",
       "  <tbody>\n",
       "    <tr>\n",
       "      <th>0</th>\n",
       "      <td>Control Campaign</td>\n",
       "      <td>1.08.2019</td>\n",
       "      <td>2280</td>\n",
       "      <td>82702.0</td>\n",
       "      <td>56930.0</td>\n",
       "      <td>7016.0</td>\n",
       "      <td>2290.0</td>\n",
       "      <td>2159.0</td>\n",
       "      <td>1819.0</td>\n",
       "      <td>618.0</td>\n",
       "      <td>0.088084</td>\n",
       "      <td>3.68932</td>\n",
       "      <td>92.119741</td>\n",
       "    </tr>\n",
       "  </tbody>\n",
       "</table>\n",
       "</div>"
      ],
      "text/plain": [
       "      Campaign Name       Date  Spend-USD  # of Impressions    Reach  \\\n",
       "0  Control Campaign  1.08.2019       2280           82702.0  56930.0   \n",
       "\n",
       "   # of Website Clicks  # of Searches  # of View Content  # of Add to Cart  \\\n",
       "0               7016.0         2290.0             2159.0            1819.0   \n",
       "\n",
       "   # of Purchase  conversion_rate  Investment_per_purchase  Reach_per_purchase  \n",
       "0          618.0         0.088084                  3.68932           92.119741  "
      ]
     },
     "execution_count": 20,
     "metadata": {},
     "output_type": "execute_result"
    }
   ],
   "source": [
    "control_group.head(1)"
   ]
  },
  {
   "cell_type": "code",
   "execution_count": 48,
   "id": "d27ac027",
   "metadata": {},
   "outputs": [],
   "source": [
    "#We need to find if these 3 values are continuous or categorical\n",
    "def draw_histogram(list_of_values, bins, title):\n",
    "    plt.hist(list_of_values, bins)\n",
    "    plt.title(title)\n",
    "    plt.show()"
   ]
  },
  {
   "cell_type": "code",
   "execution_count": 51,
   "id": "0a8b81d0",
   "metadata": {},
   "outputs": [
    {
     "data": {
      "image/png": "[encoded data removed]",
      "text/plain": [
       "<Figure size 432x288 with 1 Axes>"
      ]
     },
     "metadata": {
      "needs_background": "light"
     },
     "output_type": "display_data"
    },
    {
     "data": {
      "image/png": "[encoded data removed]",
      "text/plain": [
       "<Figure size 432x288 with 1 Axes>"
      ]
     },
     "metadata": {
      "needs_background": "light"
     },
     "output_type": "display_data"
    },
    {
     "data": {
      "image/png": "[encoded data removed]",
      "text/plain": [
       "<Figure size 432x288 with 1 Axes>"
      ]
     },
     "metadata": {
      "needs_background": "light"
     },
     "output_type": "display_data"
    },
    {
     "data": {
      "image/png": "[encoded data removed]",
      "text/plain": [
       "<Figure size 432x288 with 1 Axes>"
      ]
     },
     "metadata": {
      "needs_background": "light"
     },
     "output_type": "display_data"
    },
    {
     "data": {
      "image/png": "[encoded data removed]",
      "text/plain": [
       "<Figure size 432x288 with 1 Axes>"
      ]
     },
     "metadata": {
      "needs_background": "light"
     },
     "output_type": "display_data"
    },
    {
     "data": {
      "image/png": "[encoded data removed]",
      "text/plain": [
       "<Figure size 432x288 with 1 Axes>"
      ]
     },
     "metadata": {
      "needs_background": "light"
     },
     "output_type": "display_data"
    }
   ],
   "source": [
    "metrics = [\"conversion_rate\", \"Investment_per_purchase\", \"Reach_per_purchase\"]\n",
    "for metric in metrics: \n",
    "    title = \"control group \"+ metric \n",
    "    draw_histogram(control_group[metric].to_list(), 20, title)\n",
    "    title = \"test group \" + metric\n",
    "    draw_histogram(test_group[metric].to_list(), 20, title)"
   ]
  },
  {
   "cell_type": "code",
   "execution_count": 29,
   "id": "b83faada",
   "metadata": {},
   "outputs": [],
   "source": [
    "from scipy.stats import mannwhitneyu"
   ]
  },
  {
   "cell_type": "code",
   "execution_count": 54,
   "id": "ed09650a",
   "metadata": {},
   "outputs": [
    {
     "name": "stdout",
     "output_type": "stream",
     "text": [
      "Statistics=503.00, p=0.1531\n",
      "Do not Reject Null Hypothesis (No significant difference between two samples in conversion_rate)\n",
      "\n",
      "Statistics=362.00, p=0.8674\n",
      "Do not Reject Null Hypothesis (No significant difference between two samples in Investment_per_purchase)\n",
      "\n",
      "Statistics=652.00, p=0.0005\n",
      "Reject Null Hypothesis (Significant difference between two samples in Reach_per_purchase)\n"
     ]
    }
   ],
   "source": [
    "#All the metrics are non-normal and continuous, hence we can take Mann and Whitney U test for hypothesis testing\n",
    "metrics = [\"conversion_rate\", \"Investment_per_purchase\", \"Reach_per_purchase\"]\n",
    "for metric in metrics:\n",
    "    stat, p_value = mannwhitneyu(control_group[metric].to_list(),test_group[metric].to_list(), alternative=\"greater\")\n",
    "    print('Statistics=%.2f, p=%.4f' % (stat, p_value)) \n",
    "    # Level of significance \n",
    "    alpha = 0.05\n",
    "    # conclusion \n",
    "    if p_value < alpha: \n",
    "        print('Reject Null Hypothesis (Significant difference between two samples in %s)' %metric) \n",
    "    else: \n",
    "        print('Do not Reject Null Hypothesis (No significant difference between two samples in %s)\\n' %metric)"
   ]
  },
  {
   "cell_type": "code",
   "execution_count": 55,
   "id": "26c904d8",
   "metadata": {},
   "outputs": [
    {
     "name": "stdout",
     "output_type": "stream",
     "text": [
      "180.10294117647058\n",
      "105.50260472712081\n"
     ]
    }
   ],
   "source": [
    "print(control_group[\"Reach_per_purchase\"].median())\n",
    "print(test_group[\"Reach_per_purchase\"].median())"
   ]
  },
  {
   "cell_type": "markdown",
   "id": "5a0e8410",
   "metadata": {},
   "source": [
    "Specifically, the test group required significantly fewer reaches per purchase, indicating improved efficiency in # of Reach.\n",
    "\n",
    "Conclusion: The test_group did not statistically show a significant change towards the # of Purchases(Monetory Value). So if this Test Variation was to drive up the monetory value, statistically there is not enough evidence to support it. "
   ]
  },
  {
   "cell_type": "code",
   "execution_count": null,
   "id": "93e8204d",
   "metadata": {},
   "outputs": [],
   "source": []
  }
 ],
 "metadata": {
  "kernelspec": {
   "display_name": "Python 3 (ipykernel)",
   "language": "python",
   "name": "python3"
  },
  "language_info": {
   "codemirror_mode": {
    "name": "ipython",
    "version": 3
   },
   "file_extension": ".py",
   "mimetype": "text/x-python",
   "name": "python",
   "nbconvert_exporter": "python",
   "pygments_lexer": "ipython3",
   "version": "3.9.2"
  }
 },
 "nbformat": 4,
 "nbformat_minor": 5
}
