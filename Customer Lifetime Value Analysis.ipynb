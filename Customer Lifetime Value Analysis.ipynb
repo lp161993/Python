{
 "cells": [
  {
   "cell_type": "code",
   "execution_count": 25,
   "id": "a0cc6dcb",
   "metadata": {},
   "outputs": [],
   "source": [
    "import pandas as pd\n",
    "import numpy as np\n",
    "from scipy import stats\n",
    "import random"
   ]
  },
  {
   "cell_type": "code",
   "execution_count": 9,
   "id": "182e9104",
   "metadata": {},
   "outputs": [
    {
     "data": {
      "text/html": [
       "<div>\n",
       "<style scoped>\n",
       "    .dataframe tbody tr th:only-of-type {\n",
       "        vertical-align: middle;\n",
       "    }\n",
       "\n",
       "    .dataframe tbody tr th {\n",
       "        vertical-align: top;\n",
       "    }\n",
       "\n",
       "    .dataframe thead th {\n",
       "        text-align: right;\n",
       "    }\n",
       "</style>\n",
       "<table border=\"1\" class=\"dataframe\">\n",
       "  <thead>\n",
       "    <tr style=\"text-align: right;\">\n",
       "      <th></th>\n",
       "      <th>Customer_ID</th>\n",
       "      <th>Product_ID</th>\n",
       "      <th>Transaction_ID</th>\n",
       "      <th>Purchase_Frequency</th>\n",
       "      <th>Average_Order_Value</th>\n",
       "      <th>Most_Frequent_Category</th>\n",
       "      <th>Time_Between_Purchases</th>\n",
       "      <th>Region</th>\n",
       "      <th>Churn_Probability</th>\n",
       "      <th>Lifetime_Value</th>\n",
       "      <th>Launch_Date</th>\n",
       "      <th>Peak_Sales_Date</th>\n",
       "      <th>Season</th>\n",
       "      <th>Preferred_Purchase_Times</th>\n",
       "      <th>Retention_Strategy</th>\n",
       "    </tr>\n",
       "  </thead>\n",
       "  <tbody>\n",
       "    <tr>\n",
       "      <th>0</th>\n",
       "      <td>CUST_9HOS83</td>\n",
       "      <td>PROD_IK97D1</td>\n",
       "      <td>TRANS_II1DZG</td>\n",
       "      <td>17</td>\n",
       "      <td>172.57</td>\n",
       "      <td>Electronics</td>\n",
       "      <td>45</td>\n",
       "      <td>South America</td>\n",
       "      <td>0.98</td>\n",
       "      <td>952.81</td>\n",
       "      <td>2020-03-14</td>\n",
       "      <td>2023-09-11</td>\n",
       "      <td>Winter</td>\n",
       "      <td>Afternoon</td>\n",
       "      <td>Loyalty Program</td>\n",
       "    </tr>\n",
       "    <tr>\n",
       "      <th>1</th>\n",
       "      <td>CUST_AJU17N</td>\n",
       "      <td>PROD_UNN7KP</td>\n",
       "      <td>TRANS_9HJF7I</td>\n",
       "      <td>10</td>\n",
       "      <td>64.89</td>\n",
       "      <td>Clothing</td>\n",
       "      <td>6</td>\n",
       "      <td>South America</td>\n",
       "      <td>0.66</td>\n",
       "      <td>5427.51</td>\n",
       "      <td>2022-10-15</td>\n",
       "      <td>2023-01-02</td>\n",
       "      <td>Spring</td>\n",
       "      <td>Afternoon</td>\n",
       "      <td>Discount</td>\n",
       "    </tr>\n",
       "    <tr>\n",
       "      <th>2</th>\n",
       "      <td>CUST_11XNYF</td>\n",
       "      <td>PROD_0XEW2W</td>\n",
       "      <td>TRANS_OT96OM</td>\n",
       "      <td>3</td>\n",
       "      <td>120.38</td>\n",
       "      <td>Sports</td>\n",
       "      <td>23</td>\n",
       "      <td>Asia</td>\n",
       "      <td>0.60</td>\n",
       "      <td>3994.80</td>\n",
       "      <td>2021-11-30</td>\n",
       "      <td>2023-04-06</td>\n",
       "      <td>Winter</td>\n",
       "      <td>Evening</td>\n",
       "      <td>Loyalty Program</td>\n",
       "    </tr>\n",
       "    <tr>\n",
       "      <th>3</th>\n",
       "      <td>CUST_IGH8G3</td>\n",
       "      <td>PROD_3IIAJN</td>\n",
       "      <td>TRANS_45V00G</td>\n",
       "      <td>12</td>\n",
       "      <td>70.34</td>\n",
       "      <td>Clothing</td>\n",
       "      <td>5</td>\n",
       "      <td>North America</td>\n",
       "      <td>0.78</td>\n",
       "      <td>4880.01</td>\n",
       "      <td>2022-03-20</td>\n",
       "      <td>2023-03-23</td>\n",
       "      <td>Spring</td>\n",
       "      <td>Evening</td>\n",
       "      <td>Discount</td>\n",
       "    </tr>\n",
       "    <tr>\n",
       "      <th>4</th>\n",
       "      <td>CUST_OK6PUM</td>\n",
       "      <td>PROD_VMIWD2</td>\n",
       "      <td>TRANS_ZAK760</td>\n",
       "      <td>18</td>\n",
       "      <td>42.39</td>\n",
       "      <td>Electronics</td>\n",
       "      <td>10</td>\n",
       "      <td>North America</td>\n",
       "      <td>0.52</td>\n",
       "      <td>8557.70</td>\n",
       "      <td>2022-11-09</td>\n",
       "      <td>2023-10-28</td>\n",
       "      <td>Spring</td>\n",
       "      <td>Morning</td>\n",
       "      <td>Discount</td>\n",
       "    </tr>\n",
       "    <tr>\n",
       "      <th>5</th>\n",
       "      <td>CUST_63F5GB</td>\n",
       "      <td>PROD_L0NAD5</td>\n",
       "      <td>TRANS_HI4MBV</td>\n",
       "      <td>12</td>\n",
       "      <td>132.90</td>\n",
       "      <td>Electronics</td>\n",
       "      <td>42</td>\n",
       "      <td>Europe</td>\n",
       "      <td>0.25</td>\n",
       "      <td>8215.33</td>\n",
       "      <td>2020-12-26</td>\n",
       "      <td>2023-12-09</td>\n",
       "      <td>Winter</td>\n",
       "      <td>Evening</td>\n",
       "      <td>Loyalty Program</td>\n",
       "    </tr>\n",
       "    <tr>\n",
       "      <th>6</th>\n",
       "      <td>CUST_P9K9F2</td>\n",
       "      <td>PROD_CVVCB0</td>\n",
       "      <td>TRANS_X0MXCI</td>\n",
       "      <td>16</td>\n",
       "      <td>128.43</td>\n",
       "      <td>Clothing</td>\n",
       "      <td>38</td>\n",
       "      <td>Europe</td>\n",
       "      <td>0.94</td>\n",
       "      <td>7031.07</td>\n",
       "      <td>2022-03-15</td>\n",
       "      <td>2023-09-06</td>\n",
       "      <td>Summer</td>\n",
       "      <td>Afternoon</td>\n",
       "      <td>Email Campaign</td>\n",
       "    </tr>\n",
       "    <tr>\n",
       "      <th>7</th>\n",
       "      <td>CUST_EMHZQV</td>\n",
       "      <td>PROD_PVOV5L</td>\n",
       "      <td>TRANS_9B8B46</td>\n",
       "      <td>10</td>\n",
       "      <td>67.52</td>\n",
       "      <td>Electronics</td>\n",
       "      <td>56</td>\n",
       "      <td>Asia</td>\n",
       "      <td>0.56</td>\n",
       "      <td>5167.16</td>\n",
       "      <td>2021-02-17</td>\n",
       "      <td>2023-06-12</td>\n",
       "      <td>Summer</td>\n",
       "      <td>Afternoon</td>\n",
       "      <td>Discount</td>\n",
       "    </tr>\n",
       "    <tr>\n",
       "      <th>8</th>\n",
       "      <td>CUST_8E2Q1K</td>\n",
       "      <td>PROD_MG36BV</td>\n",
       "      <td>TRANS_AZ1OW8</td>\n",
       "      <td>7</td>\n",
       "      <td>165.26</td>\n",
       "      <td>Electronics</td>\n",
       "      <td>73</td>\n",
       "      <td>Europe</td>\n",
       "      <td>0.17</td>\n",
       "      <td>9943.51</td>\n",
       "      <td>2021-03-28</td>\n",
       "      <td>2023-02-05</td>\n",
       "      <td>Winter</td>\n",
       "      <td>Evening</td>\n",
       "      <td>Loyalty Program</td>\n",
       "    </tr>\n",
       "    <tr>\n",
       "      <th>9</th>\n",
       "      <td>CUST_4VB1T5</td>\n",
       "      <td>PROD_DKK6UZ</td>\n",
       "      <td>TRANS_AC3353</td>\n",
       "      <td>6</td>\n",
       "      <td>52.86</td>\n",
       "      <td>Home</td>\n",
       "      <td>60</td>\n",
       "      <td>North America</td>\n",
       "      <td>0.59</td>\n",
       "      <td>9978.11</td>\n",
       "      <td>2021-08-16</td>\n",
       "      <td>2023-10-06</td>\n",
       "      <td>Winter</td>\n",
       "      <td>Evening</td>\n",
       "      <td>Loyalty Program</td>\n",
       "    </tr>\n",
       "  </tbody>\n",
       "</table>\n",
       "</div>"
      ],
      "text/plain": [
       "   Customer_ID   Product_ID Transaction_ID  Purchase_Frequency  \\\n",
       "0  CUST_9HOS83  PROD_IK97D1   TRANS_II1DZG                  17   \n",
       "1  CUST_AJU17N  PROD_UNN7KP   TRANS_9HJF7I                  10   \n",
       "2  CUST_11XNYF  PROD_0XEW2W   TRANS_OT96OM                   3   \n",
       "3  CUST_IGH8G3  PROD_3IIAJN   TRANS_45V00G                  12   \n",
       "4  CUST_OK6PUM  PROD_VMIWD2   TRANS_ZAK760                  18   \n",
       "5  CUST_63F5GB  PROD_L0NAD5   TRANS_HI4MBV                  12   \n",
       "6  CUST_P9K9F2  PROD_CVVCB0   TRANS_X0MXCI                  16   \n",
       "7  CUST_EMHZQV  PROD_PVOV5L   TRANS_9B8B46                  10   \n",
       "8  CUST_8E2Q1K  PROD_MG36BV   TRANS_AZ1OW8                   7   \n",
       "9  CUST_4VB1T5  PROD_DKK6UZ   TRANS_AC3353                   6   \n",
       "\n",
       "   Average_Order_Value Most_Frequent_Category  Time_Between_Purchases  \\\n",
       "0               172.57            Electronics                      45   \n",
       "1                64.89               Clothing                       6   \n",
       "2               120.38                 Sports                      23   \n",
       "3                70.34               Clothing                       5   \n",
       "4                42.39            Electronics                      10   \n",
       "5               132.90            Electronics                      42   \n",
       "6               128.43               Clothing                      38   \n",
       "7                67.52            Electronics                      56   \n",
       "8               165.26            Electronics                      73   \n",
       "9                52.86                   Home                      60   \n",
       "\n",
       "          Region  Churn_Probability  Lifetime_Value Launch_Date  \\\n",
       "0  South America               0.98          952.81  2020-03-14   \n",
       "1  South America               0.66         5427.51  2022-10-15   \n",
       "2           Asia               0.60         3994.80  2021-11-30   \n",
       "3  North America               0.78         4880.01  2022-03-20   \n",
       "4  North America               0.52         8557.70  2022-11-09   \n",
       "5         Europe               0.25         8215.33  2020-12-26   \n",
       "6         Europe               0.94         7031.07  2022-03-15   \n",
       "7           Asia               0.56         5167.16  2021-02-17   \n",
       "8         Europe               0.17         9943.51  2021-03-28   \n",
       "9  North America               0.59         9978.11  2021-08-16   \n",
       "\n",
       "  Peak_Sales_Date  Season Preferred_Purchase_Times Retention_Strategy  \n",
       "0      2023-09-11  Winter                Afternoon    Loyalty Program  \n",
       "1      2023-01-02  Spring                Afternoon           Discount  \n",
       "2      2023-04-06  Winter                  Evening    Loyalty Program  \n",
       "3      2023-03-23  Spring                  Evening           Discount  \n",
       "4      2023-10-28  Spring                  Morning           Discount  \n",
       "5      2023-12-09  Winter                  Evening    Loyalty Program  \n",
       "6      2023-09-06  Summer                Afternoon     Email Campaign  \n",
       "7      2023-06-12  Summer                Afternoon           Discount  \n",
       "8      2023-02-05  Winter                  Evening    Loyalty Program  \n",
       "9      2023-10-06  Winter                  Evening    Loyalty Program  "
      ]
     },
     "execution_count": 9,
     "metadata": {},
     "output_type": "execute_result"
    }
   ],
   "source": [
    "customer_data = pd.read_csv(\"sales_and_customer_insights.csv\")\n",
    "customer_data.head(10)"
   ]
  },
  {
   "cell_type": "code",
   "execution_count": 10,
   "id": "a1b7a5c6",
   "metadata": {},
   "outputs": [
    {
     "name": "stdout",
     "output_type": "stream",
     "text": [
      "<class 'pandas.core.frame.DataFrame'>\n",
      "RangeIndex: 10000 entries, 0 to 9999\n",
      "Data columns (total 15 columns):\n",
      " #   Column                    Non-Null Count  Dtype  \n",
      "---  ------                    --------------  -----  \n",
      " 0   Customer_ID               10000 non-null  object \n",
      " 1   Product_ID                10000 non-null  object \n",
      " 2   Transaction_ID            10000 non-null  object \n",
      " 3   Purchase_Frequency        10000 non-null  int64  \n",
      " 4   Average_Order_Value       10000 non-null  float64\n",
      " 5   Most_Frequent_Category    10000 non-null  object \n",
      " 6   Time_Between_Purchases    10000 non-null  int64  \n",
      " 7   Region                    10000 non-null  object \n",
      " 8   Churn_Probability         10000 non-null  float64\n",
      " 9   Lifetime_Value            10000 non-null  float64\n",
      " 10  Launch_Date               10000 non-null  object \n",
      " 11  Peak_Sales_Date           10000 non-null  object \n",
      " 12  Season                    10000 non-null  object \n",
      " 13  Preferred_Purchase_Times  10000 non-null  object \n",
      " 14  Retention_Strategy        10000 non-null  object \n",
      "dtypes: float64(3), int64(2), object(10)\n",
      "memory usage: 1.1+ MB\n"
     ]
    }
   ],
   "source": [
    "customer_data.info()"
   ]
  },
  {
   "cell_type": "markdown",
   "id": "9ccfd018",
   "metadata": {},
   "source": [
    "Customer_ID: Unique identifier for each customer.\n",
    "\n",
    "Product_ID: Unique identifier for each product.\n",
    "\n",
    "Transaction_ID: Unique identifier for each transaction.\n",
    "\n",
    "Purchase_Frequency: Number of purchases made by the customer. \n",
    "\n",
    "Average_Order_Value: Average transaction value (in USD).\n",
    "\n",
    "Most_Frequent_Category: The product category most frequently purchased by the customer.\n",
    "\n",
    "Time_Between_Purchases: Average time between two purchases (in days).\n",
    "\n",
    "Region: Geographical region of the customer (e.g., North America, Europe).\n",
    "\n",
    "Churn_Probability: Likelihood of the customer not returning, expressed as a probability (0 to 1).\n",
    "\n",
    "Lifetime_Value: Estimated total revenue attributed to a customer (in USD).\n",
    "\n",
    "Launch_Date: Launch date of the product.\n",
    "\n",
    "Peak_Sales_Date: Date when the product reached its peak sales.\n",
    "\n",
    "Season: Season associated with peak sales.\n",
    "\n",
    "Preferred_Purchase_Times: Most common time of day the customer prefers to make purchases.\n",
    "\n",
    "Retention_Strategy: Strategy used to retain the customer (e.g., discounts, loyalty programs)."
   ]
  },
  {
   "cell_type": "code",
   "execution_count": 11,
   "id": "0e756da8",
   "metadata": {},
   "outputs": [],
   "source": [
    "#Step 1: Data Cleaning and Preparation\n",
    "def explore_dataset(input_df):\n",
    "    dup = input_df[input_df.duplicated() == True].shape[0] > 0 #Computing if any rows are duplicated\n",
    "    missing = input_df.isnull().sum() #Missing values in each\n",
    "    fields = input_df.columns #fields in the dataset\n",
    "    print(\"Duplication: {}\\n\\nMissing data per field: \\n{}\".format(dup, missing))\n",
    "    print(\"\\nStatistics: \\n{}\".format(input_df[fields].describe())) # Information about columns\n",
    "    input_df.info()"
   ]
  },
  {
   "cell_type": "code",
   "execution_count": 12,
   "id": "a45ce273",
   "metadata": {},
   "outputs": [
    {
     "name": "stdout",
     "output_type": "stream",
     "text": [
      "Duplication: False\n",
      "\n",
      "Missing data per field: \n",
      "Customer_ID                 0\n",
      "Product_ID                  0\n",
      "Transaction_ID              0\n",
      "Purchase_Frequency          0\n",
      "Average_Order_Value         0\n",
      "Most_Frequent_Category      0\n",
      "Time_Between_Purchases      0\n",
      "Region                      0\n",
      "Churn_Probability           0\n",
      "Lifetime_Value              0\n",
      "Launch_Date                 0\n",
      "Peak_Sales_Date             0\n",
      "Season                      0\n",
      "Preferred_Purchase_Times    0\n",
      "Retention_Strategy          0\n",
      "dtype: int64\n",
      "\n",
      "Statistics: \n",
      "       Purchase_Frequency  Average_Order_Value  Time_Between_Purchases  \\\n",
      "count        10000.000000         10000.000000            10000.000000   \n",
      "mean             9.955700           110.006022               46.885300   \n",
      "std              5.526209            52.096870               24.711746   \n",
      "min              1.000000            20.010000                5.000000   \n",
      "25%              5.000000            65.262500               25.000000   \n",
      "50%             10.000000           109.930000               47.000000   \n",
      "75%             15.000000           155.480000               68.000000   \n",
      "max             19.000000           199.960000               89.000000   \n",
      "\n",
      "       Churn_Probability  Lifetime_Value  \n",
      "count       10000.000000    10000.000000  \n",
      "mean            0.501552     5031.930567  \n",
      "std             0.288289     2865.420299  \n",
      "min             0.000000      100.160000  \n",
      "25%             0.250000     2518.775000  \n",
      "50%             0.500000     5012.180000  \n",
      "75%             0.750000     7526.232500  \n",
      "max             1.000000     9999.760000  \n",
      "<class 'pandas.core.frame.DataFrame'>\n",
      "RangeIndex: 10000 entries, 0 to 9999\n",
      "Data columns (total 15 columns):\n",
      " #   Column                    Non-Null Count  Dtype  \n",
      "---  ------                    --------------  -----  \n",
      " 0   Customer_ID               10000 non-null  object \n",
      " 1   Product_ID                10000 non-null  object \n",
      " 2   Transaction_ID            10000 non-null  object \n",
      " 3   Purchase_Frequency        10000 non-null  int64  \n",
      " 4   Average_Order_Value       10000 non-null  float64\n",
      " 5   Most_Frequent_Category    10000 non-null  object \n",
      " 6   Time_Between_Purchases    10000 non-null  int64  \n",
      " 7   Region                    10000 non-null  object \n",
      " 8   Churn_Probability         10000 non-null  float64\n",
      " 9   Lifetime_Value            10000 non-null  float64\n",
      " 10  Launch_Date               10000 non-null  object \n",
      " 11  Peak_Sales_Date           10000 non-null  object \n",
      " 12  Season                    10000 non-null  object \n",
      " 13  Preferred_Purchase_Times  10000 non-null  object \n",
      " 14  Retention_Strategy        10000 non-null  object \n",
      "dtypes: float64(3), int64(2), object(10)\n",
      "memory usage: 1.1+ MB\n"
     ]
    }
   ],
   "source": [
    "explore_dataset(customer_data)"
   ]
  },
  {
   "cell_type": "code",
   "execution_count": 13,
   "id": "0fef898e",
   "metadata": {},
   "outputs": [],
   "source": [
    "def detect_outliers_zscore(df, column, threshold=3):\n",
    "    z_scores = np.abs(stats.zscore(df[column]))\n",
    "    outliers = df[z_scores > threshold]\n",
    "    return outliers"
   ]
  },
  {
   "cell_type": "code",
   "execution_count": 14,
   "id": "65a7d04a",
   "metadata": {},
   "outputs": [
    {
     "name": "stdout",
     "output_type": "stream",
     "text": [
      "Column name:  Purchase_Frequency\n",
      "Column name:  Average_Order_Value\n",
      "Column name:  Time_Between_Purchases\n",
      "Column name:  Churn_Probability\n",
      "Column name:  Lifetime_Value\n"
     ]
    }
   ],
   "source": [
    "for col in customer_data.columns:\n",
    "    if pd.api.types.is_integer_dtype(customer_data[col]) or pd.api.types.is_float_dtype(customer_data[col]):\n",
    "        print(\"Column name: \", col)\n",
    "        detect_outliers_zscore(customer_data, col)"
   ]
  },
  {
   "cell_type": "markdown",
   "id": "c77098de",
   "metadata": {},
   "source": [
    "Looks like a good dataset. No outliers\n"
   ]
  },
  {
   "cell_type": "code",
   "execution_count": 15,
   "id": "029a1433",
   "metadata": {},
   "outputs": [
    {
     "data": {
      "image/png": "[encoded data removed]",
      "text/plain": [
       "<Figure size 432x288 with 1 Axes>"
      ]
     },
     "metadata": {
      "needs_background": "light"
     },
     "output_type": "display_data"
    }
   ],
   "source": [
    "# Given the Customer Lifetime Value, Let's try bootstrapping\n",
    "# Why should i do bootstrapping\n",
    "# It is a statistical technique to understand the distribution of a statistic, by sampling the data with replacement\n",
    "# It helps to estimate confidence interval around our statistic, when there is either not enough data or \n",
    "# the data is not normally distributed\n",
    "# I want to check if the data is not normally distributed\n",
    "import matplotlib.pyplot as plt\n",
    "\n",
    "plt.hist(customer_data['Lifetime_Value'], bins=30)\n",
    "plt.title('Histogram of Data')\n",
    "plt.show()"
   ]
  },
  {
   "cell_type": "code",
   "execution_count": 16,
   "id": "ad592ac1",
   "metadata": {},
   "outputs": [
    {
     "name": "stdout",
     "output_type": "stream",
     "text": [
      "Average Customer Lifetime Value: 5031.93\n"
     ]
    }
   ],
   "source": [
    "# The data is not normally distributed\n",
    "# How confident are we about the CLTV? Let's find out using Confidence Intervals\n",
    "# I want to calculate the average CLTV and the confidence interval around the average CLTV\n",
    "# Step 1: Calculate Average CLTV value\n",
    "print(\"Average Customer Lifetime Value: %.2f\" % customer_data[\"Lifetime_Value\"].mean())"
   ]
  },
  {
   "cell_type": "code",
   "execution_count": 51,
   "id": "92543ecd",
   "metadata": {},
   "outputs": [],
   "source": [
    "#Bootstrapping\n",
    "\n",
    "def bootstrap(data, num_samples=1000):\n",
    "    \"\"\"\n",
    "    Performs bootstrapping to estimate the sampling distribution of the mean.\n",
    "\n",
    "    Args:\n",
    "        data: A list or numpy array of data values.\n",
    "        num_samples: The number of bootstrap samples to generate.\n",
    "\n",
    "    Returns:\n",
    "        A list of the means calculated from each bootstrap sample.\n",
    "    \"\"\"\n",
    "    n = len(data)\n",
    "    means = []\n",
    "    for sam in range(num_samples):\n",
    "        sample = [random.choice(data) for sam in range(n)]\n",
    "        # Calculate the mean of the sample\n",
    "        means.append(np.mean(sample))\n",
    "    return means"
   ]
  },
  {
   "cell_type": "code",
   "execution_count": 59,
   "id": "8fe9da3c",
   "metadata": {},
   "outputs": [],
   "source": [
    "def confidence_interval(percent, statistic_list):\n",
    "    ci_lower_percent = (100-percent)/2.0\n",
    "    ci_higher_percent = percent + ci_lower_percent\n",
    "    lower_bound = np.percentile(statistic_list, ci_lower_percent)\n",
    "    upper_bound = np.percentile(statistic_list, ci_higher_percent)\n",
    "    print(f\"Estimated 95% confidence interval: [{lower_bound:.2f}, {upper_bound:.2f}]\")\n",
    "    return lower_bound, upper_bound"
   ]
  },
  {
   "cell_type": "code",
   "execution_count": 19,
   "id": "f00a9750",
   "metadata": {},
   "outputs": [],
   "source": [
    "def draw_histogram(list_of_values, bins=30):\n",
    "    plt.hist(list_of_values, bins=30)\n",
    "    plt.title('Histogram of Data')\n",
    "    plt.show()"
   ]
  },
  {
   "cell_type": "code",
   "execution_count": 27,
   "id": "847297f1",
   "metadata": {},
   "outputs": [],
   "source": [
    "bootstrap_means = bootstrap(customer_data[\"Lifetime_Value\"], num_samples=100)"
   ]
  },
  {
   "cell_type": "code",
   "execution_count": 30,
   "id": "0136f9bf",
   "metadata": {},
   "outputs": [
    {
     "name": "stdout",
     "output_type": "stream",
     "text": [
      "<class 'pandas.core.series.Series'>\n"
     ]
    }
   ],
   "source": [
    "print(type(customer_data[\"Lifetime_Value\"]))"
   ]
  },
  {
   "cell_type": "code",
   "execution_count": 29,
   "id": "d8b860a5",
   "metadata": {},
   "outputs": [
    {
     "data": {
      "image/png": "[encoded data removed]",
      "text/plain": [
       "<Figure size 432x288 with 1 Axes>"
      ]
     },
     "metadata": {
      "needs_background": "light"
     },
     "output_type": "display_data"
    },
    {
     "name": "stdout",
     "output_type": "stream",
     "text": [
      "Estimated 95% confidence interval: [4973.69, 5084.19]\n"
     ]
    }
   ],
   "source": [
    "draw_histogram(bootstrap_means)\n",
    "confidence_interval(95, bootstrap_means)"
   ]
  },
  {
   "cell_type": "markdown",
   "id": "e08c078d",
   "metadata": {},
   "source": [
    "You might have 1,000 customers, and the average CLTV could be $1,200. But how certain are you \n",
    "that the true average CLTV for the entire population is really $1,200, and \n",
    "not something like $1,100 or $1,300? Bootstrapping allows you to simulate this process by resampling the data\n",
    "and gives you a range of possible values, i.e., a confidence interval around that average."
   ]
  },
  {
   "cell_type": "code",
   "execution_count": 21,
   "id": "97bcdcf7",
   "metadata": {},
   "outputs": [
    {
     "name": "stdout",
     "output_type": "stream",
     "text": [
      "All Customers mentioned are unique\n"
     ]
    }
   ],
   "source": [
    "# Currently we have estimated confidence intervals for the overall population. Now let's break down.\n",
    "# Step 1: If we want to segment customer based on a criteria, we need to filter the unique customer rows\n",
    "if len(customer_data) == len(customer_data[\"Customer_ID\"].unique()):\n",
    "    print(\"All Customers mentioned are unique\")\n",
    "else:\n",
    "    #Steps to reduce the dataset to a customer level\n",
    "    print(\"Needs work\")"
   ]
  },
  {
   "cell_type": "code",
   "execution_count": 22,
   "id": "83f9c0b8",
   "metadata": {},
   "outputs": [],
   "source": [
    "# Let's try CLTV values across these fields\n",
    "# Retention_Strategy Churn_Probability Preferred_Purchase_Times Most_Frequent_Category Region\n",
    "from pandas.api.types import is_float_dtype, is_integer_dtype"
   ]
  },
  {
   "cell_type": "code",
   "execution_count": 73,
   "id": "49dbddb0",
   "metadata": {},
   "outputs": [],
   "source": [
    "def mean_and_ci(data, field):\n",
    "    original_mean = data[field].mean()\n",
    "    print(\"Average %s: %.2f\" % (field, original_mean))\n",
    "    bootstrap_means = bootstrap(data[field].tolist(), num_samples=200)\n",
    "    draw_histogram(bootstrap_means)\n",
    "    ci_l, ci_h = confidence_interval(95, bootstrap_means)\n",
    "    print(\"Width of CI relative to mean: %.2f\" % ((ci_h-ci_l)/original_mean *100))\n",
    "    print(\"-----------------------------------\\n\")"
   ]
  },
  {
   "cell_type": "code",
   "execution_count": 74,
   "id": "ecdd430c",
   "metadata": {
    "scrolled": false
   },
   "outputs": [
    {
     "name": "stdout",
     "output_type": "stream",
     "text": [
      "Category: Retention_Strategy Sub-Category: Loyalty Program \n",
      "Average Lifetime_Value: 5012.62\n"
     ]
    },
    {
     "data": {
      "image/png": "[encoded data removed]",
      "text/plain": [
       "<Figure size 432x288 with 1 Axes>"
      ]
     },
     "metadata": {
      "needs_background": "light"
     },
     "output_type": "display_data"
    },
    {
     "name": "stdout",
     "output_type": "stream",
     "text": [
      "Estimated 95% confidence interval: [4929.48, 5109.87]\n",
      "Width of CI relative to mean: 3.60\n",
      "-----------------------------------\n",
      "\n",
      "Category: Retention_Strategy Sub-Category: Discount \n",
      "Average Lifetime_Value: 5037.53\n"
     ]
    },
    {
     "data": {
      "image/png": "[encoded data removed]",
      "text/plain": [
       "<Figure size 432x288 with 1 Axes>"
      ]
     },
     "metadata": {
      "needs_background": "light"
     },
     "output_type": "display_data"
    },
    {
     "name": "stdout",
     "output_type": "stream",
     "text": [
      "Estimated 95% confidence interval: [4966.56, 5126.77]\n",
      "Width of CI relative to mean: 3.18\n",
      "-----------------------------------\n",
      "\n",
      "Category: Retention_Strategy Sub-Category: Email Campaign \n",
      "Average Lifetime_Value: 5045.81\n"
     ]
    },
    {
     "data": {
      "image/png": "[encoded data removed]",
      "text/plain": [
       "<Figure size 432x288 with 1 Axes>"
      ]
     },
     "metadata": {
      "needs_background": "light"
     },
     "output_type": "display_data"
    },
    {
     "name": "stdout",
     "output_type": "stream",
     "text": [
      "Estimated 95% confidence interval: [4949.45, 5129.45]\n",
      "Width of CI relative to mean: 3.57\n",
      "-----------------------------------\n",
      "\n",
      "Category: Churn_Probability  in 0.00 to 0.25 range\n",
      "Average Lifetime_Value: 5058.37\n"
     ]
    },
    {
     "data": {
      "image/png": "[encoded data removed]",
      "text/plain": [
       "<Figure size 432x288 with 1 Axes>"
      ]
     },
     "metadata": {
      "needs_background": "light"
     },
     "output_type": "display_data"
    },
    {
     "name": "stdout",
     "output_type": "stream",
     "text": [
      "Estimated 95% confidence interval: [4953.33, 5160.24]\n",
      "Width of CI relative to mean: 4.09\n",
      "-----------------------------------\n",
      "\n",
      "Category: Churn_Probability  in 0.25 to 0.50 range\n",
      "Average Lifetime_Value: 5060.33\n"
     ]
    },
    {
     "data": {
      "image/png": "[encoded data removed]",
      "text/plain": [
       "<Figure size 432x288 with 1 Axes>"
      ]
     },
     "metadata": {
      "needs_background": "light"
     },
     "output_type": "display_data"
    },
    {
     "name": "stdout",
     "output_type": "stream",
     "text": [
      "Estimated 95% confidence interval: [4948.68, 5161.69]\n",
      "Width of CI relative to mean: 4.21\n",
      "-----------------------------------\n",
      "\n",
      "Category: Churn_Probability  in 0.50 to 0.75 range\n",
      "Average Lifetime_Value: 5030.44\n"
     ]
    },
    {
     "data": {
      "image/png": "[encoded data removed]",
      "text/plain": [
       "<Figure size 432x288 with 1 Axes>"
      ]
     },
     "metadata": {
      "needs_background": "light"
     },
     "output_type": "display_data"
    },
    {
     "name": "stdout",
     "output_type": "stream",
     "text": [
      "Estimated 95% confidence interval: [4941.72, 5138.95]\n",
      "Width of CI relative to mean: 3.92\n",
      "-----------------------------------\n",
      "\n",
      "Category: Churn_Probability  in 0.75 to 1.00 range\n",
      "Average Lifetime_Value: 4991.69\n"
     ]
    },
    {
     "data": {
      "image/png": "[encoded data removed]",
      "text/plain": [
       "<Figure size 432x288 with 1 Axes>"
      ]
     },
     "metadata": {
      "needs_background": "light"
     },
     "output_type": "display_data"
    },
    {
     "name": "stdout",
     "output_type": "stream",
     "text": [
      "Estimated 95% confidence interval: [4874.44, 5101.67]\n",
      "Width of CI relative to mean: 4.55\n",
      "-----------------------------------\n",
      "\n",
      "Category: Preferred_Purchase_Times Sub-Category: Afternoon \n",
      "Average Lifetime_Value: 4980.13\n"
     ]
    },
    {
     "data": {
      "image/png": "[encoded data removed]",
      "text/plain": [
       "<Figure size 432x288 with 1 Axes>"
      ]
     },
     "metadata": {
      "needs_background": "light"
     },
     "output_type": "display_data"
    },
    {
     "name": "stdout",
     "output_type": "stream",
     "text": [
      "Estimated 95% confidence interval: [4895.62, 5057.76]\n",
      "Width of CI relative to mean: 3.26\n",
      "-----------------------------------\n",
      "\n",
      "Category: Preferred_Purchase_Times Sub-Category: Evening \n",
      "Average Lifetime_Value: 5060.31\n"
     ]
    },
    {
     "data": {
      "image/png": "[encoded data removed]",
      "text/plain": [
       "<Figure size 432x288 with 1 Axes>"
      ]
     },
     "metadata": {
      "needs_background": "light"
     },
     "output_type": "display_data"
    },
    {
     "name": "stdout",
     "output_type": "stream",
     "text": [
      "Estimated 95% confidence interval: [4974.36, 5148.34]\n",
      "Width of CI relative to mean: 3.44\n",
      "-----------------------------------\n",
      "\n",
      "Category: Preferred_Purchase_Times Sub-Category: Morning \n",
      "Average Lifetime_Value: 5055.68\n"
     ]
    },
    {
     "data": {
      "image/png": "[encoded data removed]",
      "text/plain": [
       "<Figure size 432x288 with 1 Axes>"
      ]
     },
     "metadata": {
      "needs_background": "light"
     },
     "output_type": "display_data"
    },
    {
     "name": "stdout",
     "output_type": "stream",
     "text": [
      "Estimated 95% confidence interval: [4954.67, 5159.98]\n",
      "Width of CI relative to mean: 4.06\n",
      "-----------------------------------\n",
      "\n",
      "Category: Most_Frequent_Category Sub-Category: Electronics \n",
      "Average Lifetime_Value: 4973.47\n"
     ]
    },
    {
     "data": {
      "image/png": "[encoded data removed]",
      "text/plain": [
       "<Figure size 432x288 with 1 Axes>"
      ]
     },
     "metadata": {
      "needs_background": "light"
     },
     "output_type": "display_data"
    },
    {
     "name": "stdout",
     "output_type": "stream",
     "text": [
      "Estimated 95% confidence interval: [4861.59, 5087.19]\n",
      "Width of CI relative to mean: 4.54\n",
      "-----------------------------------\n",
      "\n",
      "Category: Most_Frequent_Category Sub-Category: Clothing \n",
      "Average Lifetime_Value: 5047.70\n"
     ]
    },
    {
     "data": {
      "image/png": "[encoded data removed]",
      "text/plain": [
       "<Figure size 432x288 with 1 Axes>"
      ]
     },
     "metadata": {
      "needs_background": "light"
     },
     "output_type": "display_data"
    },
    {
     "name": "stdout",
     "output_type": "stream",
     "text": [
      "Estimated 95% confidence interval: [4945.80, 5132.80]\n",
      "Width of CI relative to mean: 3.70\n",
      "-----------------------------------\n",
      "\n",
      "Category: Most_Frequent_Category Sub-Category: Sports \n",
      "Average Lifetime_Value: 5066.96\n"
     ]
    },
    {
     "data": {
      "image/png": "[encoded data removed]",
      "text/plain": [
       "<Figure size 432x288 with 1 Axes>"
      ]
     },
     "metadata": {
      "needs_background": "light"
     },
     "output_type": "display_data"
    },
    {
     "name": "stdout",
     "output_type": "stream",
     "text": [
      "Estimated 95% confidence interval: [4952.93, 5180.26]\n",
      "Width of CI relative to mean: 4.49\n",
      "-----------------------------------\n",
      "\n",
      "Category: Most_Frequent_Category Sub-Category: Home \n",
      "Average Lifetime_Value: 5041.93\n"
     ]
    },
    {
     "data": {
      "image/png": "[encoded data removed]",
      "text/plain": [
       "<Figure size 432x288 with 1 Axes>"
      ]
     },
     "metadata": {
      "needs_background": "light"
     },
     "output_type": "display_data"
    },
    {
     "name": "stdout",
     "output_type": "stream",
     "text": [
      "Estimated 95% confidence interval: [4941.71, 5159.23]\n",
      "Width of CI relative to mean: 4.31\n",
      "-----------------------------------\n",
      "\n",
      "Category: Region Sub-Category: South America \n",
      "Average Lifetime_Value: 5014.93\n"
     ]
    },
    {
     "data": {
      "image/png": "[encoded data removed]",
      "text/plain": [
       "<Figure size 432x288 with 1 Axes>"
      ]
     },
     "metadata": {
      "needs_background": "light"
     },
     "output_type": "display_data"
    },
    {
     "name": "stdout",
     "output_type": "stream",
     "text": [
      "Estimated 95% confidence interval: [4895.45, 5118.01]\n",
      "Width of CI relative to mean: 4.44\n",
      "-----------------------------------\n",
      "\n",
      "Category: Region Sub-Category: Asia \n",
      "Average Lifetime_Value: 5048.31\n"
     ]
    },
    {
     "data": {
      "image/png": "[encoded data removed]",
      "text/plain": [
       "<Figure size 432x288 with 1 Axes>"
      ]
     },
     "metadata": {
      "needs_background": "light"
     },
     "output_type": "display_data"
    },
    {
     "name": "stdout",
     "output_type": "stream",
     "text": [
      "Estimated 95% confidence interval: [4945.37, 5165.19]\n",
      "Width of CI relative to mean: 4.35\n",
      "-----------------------------------\n",
      "\n",
      "Category: Region Sub-Category: North America \n",
      "Average Lifetime_Value: 5073.58\n"
     ]
    },
    {
     "data": {
      "image/png": "[encoded data removed]",
      "text/plain": [
       "<Figure size 432x288 with 1 Axes>"
      ]
     },
     "metadata": {
      "needs_background": "light"
     },
     "output_type": "display_data"
    },
    {
     "name": "stdout",
     "output_type": "stream",
     "text": [
      "Estimated 95% confidence interval: [4963.71, 5185.40]\n",
      "Width of CI relative to mean: 4.37\n",
      "-----------------------------------\n",
      "\n",
      "Category: Region Sub-Category: Europe \n",
      "Average Lifetime_Value: 4992.77\n"
     ]
    },
    {
     "data": {
      "image/png": "[encoded data removed]",
      "text/plain": [
       "<Figure size 432x288 with 1 Axes>"
      ]
     },
     "metadata": {
      "needs_background": "light"
     },
     "output_type": "display_data"
    },
    {
     "name": "stdout",
     "output_type": "stream",
     "text": [
      "Estimated 95% confidence interval: [4887.67, 5118.89]\n",
      "Width of CI relative to mean: 4.63\n",
      "-----------------------------------\n",
      "\n"
     ]
    }
   ],
   "source": [
    "customer_segmentation_cols = [\"Retention_Strategy\", \"Churn_Probability\", \"Preferred_Purchase_Times\", \"Most_Frequent_Category\", \"Region\"]\n",
    "for col in customer_segmentation_cols:\n",
    "    if not (is_float_dtype(customer_data[col]) or is_integer_dtype(customer_data[col])):\n",
    "        unique_values = customer_data[col].unique()\n",
    "        for category in unique_values:\n",
    "            subset_data = customer_data.loc[customer_data[col] == category]\n",
    "            print(\"Category: %s Sub-Category: %s \" % (col, category))\n",
    "            mean_and_ci(subset_data, \"Lifetime_Value\")\n",
    "    else:\n",
    "        #For numeric columns, we create n bins and separate rows into n bins and explore CLTV\n",
    "        #For example, we choose 4\n",
    "        max_val = max(customer_data[col])\n",
    "        min_val = min(customer_data[col])\n",
    "        width = max_val - min_val       \n",
    "        for i in range(n):\n",
    "            start = min_val+(i*width/n)\n",
    "            end = start+(width/n)\n",
    "            subset_data = customer_data.loc[customer_data[col].between(start, end)]\n",
    "            print(\"Category: %s  in %.2f to %.2f range\" % (col, start, end))\n",
    "            mean_and_ci(subset_data, \"Lifetime_Value\")\n"
   ]
  },
  {
   "cell_type": "code",
   "execution_count": null,
   "id": "d3f63dea",
   "metadata": {},
   "outputs": [],
   "source": []
  }
 ],
 "metadata": {
  "kernelspec": {
   "display_name": "Python 3 (ipykernel)",
   "language": "python",
   "name": "python3"
  },
  "language_info": {
   "codemirror_mode": {
    "name": "ipython",
    "version": 3
   },
   "file_extension": ".py",
   "mimetype": "text/x-python",
   "name": "python",
   "nbconvert_exporter": "python",
   "pygments_lexer": "ipython3",
   "version": "3.9.2"
  }
 },
 "nbformat": 4,
 "nbformat_minor": 5
}
